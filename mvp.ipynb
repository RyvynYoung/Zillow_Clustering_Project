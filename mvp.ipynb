{
 "cells": [
  {
   "cell_type": "markdown",
   "metadata": {},
   "source": [
    "# Zillow Clustering Project"
   ]
  },
  {
   "cell_type": "markdown",
   "metadata": {},
   "source": [
    "Finish the mvp workflow and then go back and think critically about what you might of missed. The point isn't to doubt yourself; the purpose here is to check your blind spots and see if you can't find more information or insights that will help you to deliver better results.\n",
    "\n",
    "Better yet, and this cannot be stressed enough, don't ask yourself these questions, but bring them up in conversation with peers, experts in other fields, or even complete strangers -- anyone with a different point of view is going to be able to help you to see what things you are taking for granted."
   ]
  },
  {
   "cell_type": "markdown",
   "metadata": {},
   "source": [
    "## Description: \n",
    "- Zillow: What is driving the errors in the Zestimates?\n",
    "- The presentation will consist of a notebook demo of the discoveries you made and work you have done related to uncovering what the drivers of the error in the zestimate is.\n",
    "\n",
    "\n",
    "## Problem Statement\n",
    "- What is driving the error in the Zestimate (logerror)?\n",
    "- Are there features that will produce a smaller average error?\n",
    "- What groups are in the data?\n",
    "- Does using these groups help remove the noise in the model?"
   ]
  },
  {
   "cell_type": "markdown",
   "metadata": {},
   "source": [
    "## Pipeline Summary"
   ]
  },
  {
   "cell_type": "code",
   "execution_count": 4,
   "metadata": {},
   "outputs": [
    {
     "data": {
      "text/plain": [
       "(71789, 70)"
      ]
     },
     "execution_count": 4,
     "metadata": {},
     "output_type": "execute_result"
    }
   ],
   "source": [
    "import acquire\n",
    "df = acquire.get_zillow_cluster_data(cached=False)\n",
    "df.shape"
   ]
  },
  {
   "cell_type": "markdown",
   "metadata": {},
   "source": [
    "### PLAN\n",
    "\n",
    "MVP Questions to answer:\n",
    "- Determine the baseline logerror\n",
    "- Produce a model that has less logerror than baseline\n",
    "- Determine key drivers of error\n",
    "\n",
    "Audience: \n",
    "- Zillow Data Science Team \n",
    "\n",
    "Setting: \n",
    "- Professional\n",
    "\n",
    "Brainstorm:    \n",
    "- MVP all counties\n",
    "- features to add:\n",
    "    - county name column, remove fips, get dummies for clustering use\n",
    "    - combined bedroom/bathroom ratio? drop bathroom, keep bedroom\n",
    "    - cluster on size with lot size, finished sq ft, and ????\n",
    "    - convert year build to age (current date - yearbuilt)\n",
    "    - does age correlate with size? if so maybe cluster age with size columns above\n",
    "    - cluster on tax value? taxamount, taxvaluedollarcnt, landtaxvaluedollarcnt, structuretaxvaluedollarcnt?\n",
    "\n",
    "- 2nd run through seperate models by county?\n",
    "- 2nd run add tax percent rate column and remove outliers above 6.6% and below 1% \n"
   ]
  },
  {
   "cell_type": "markdown",
   "metadata": {},
   "source": [
    "## Acquire Stage\n",
    "DELIVERABLES: \n",
    "- Data is collected from the Codeup cloud database with an appropriate SQL query\n",
    "- Define single unit property\n",
    "\n",
    "## Preparation Stage\n",
    "DELIVERABLES:\n",
    "- Column data types are appropriate for the data they contain\n",
    "- Missing values are investigated and handled\n",
    "- Outliers are investigated and handled\n",
    "\n",
    "## Exploration and Pre-Processing Stage\n",
    "DELIVERABLES: \n",
    "- Interaction between independent variables and the target variable is explored using visualization and statistical testing\n",
    "- Clustering is used to explore the data\n",
    "- A conclusion, supported by statistical testing and visualization, is drawn on whether or not the clusters are helpful/useful\n",
    "- At least 3 combinations of features for clustering should be tried\n",
    "\n",
    "## Modeling Stage\n",
    "DELIVERABLES: \n",
    "- At least 4 different models are created and their performance is compared\n",
    "- One model is the distinct combination of algorithm, hyperparameters, and features\n",
    "- Best practices on data splitting are followed\n",
    "\n",
    "## Delivery Stage\n",
    "DELIVERABLES:\n",
    "- [Main_Notebook](xxxxxxx)\n",
    "- walk through of notebook\n",
    "\n",
    "\n",
    "Now that you have a clear idea of what you are trying to accomplish, you need to find a data source. Think of this as working through a maze forwards and backwards at the same time. At the start you have any number of data sets available to work with (and the whole Internet to search and scrape), and at the end is the hypothetical data set that would answer your question immediately if you had it.\n",
    "What data, if you had it, would solve your problem right away?\n",
    "What data do you have access to?\n",
    "What additional data would be good to have?\n",
    "What data would be impossible to collect?\n",
    "What are the best proxies you can find for unavailable or impossible data?\n",
    "What are the legal or ethical issues you might run into if you were to try to collect all of the types of data you would like to work with?\n",
    "Of course you need to make a plan to turn your data into the solutions you need. Think of what type of problem this is, what models are commonly used for those types of problems, what types of data those models require and special considerations that may need to be made. Do your homework and find out what approaches other people are using on similar tasks.\n",
    "What ML paradigm are you working in? (Classification, Regression, Clustering, etc)\n",
    "What models are commonly used in this task?\n",
    "What other solutions are being tried in this field?\n",
    "What special considerations need to be taken when dealing with these models? (i.e., imbalanced classes, text preprocessing, data leakage, etc)\n",
    "How will you know that your models work?\n",
    "How will you recognize and diagnose cases where the predictions are incorrect?"
   ]
  },
  {
   "cell_type": "code",
   "execution_count": null,
   "metadata": {},
   "outputs": [],
   "source": []
  },
  {
   "cell_type": "code",
   "execution_count": null,
   "metadata": {},
   "outputs": [],
   "source": []
  },
  {
   "cell_type": "code",
   "execution_count": null,
   "metadata": {},
   "outputs": [],
   "source": []
  },
  {
   "cell_type": "markdown",
   "metadata": {},
   "source": [
    "****\n",
    "Acquire    \n",
    "**take aways**\n",
    "1. could fireplace, garage, pool, hottub, deck be made to 0 or 1 then summed as \"plus_item\" column?\n",
    "    - this would assume null values do not have the feature, as opposed to feature is present but not noted\n",
    "2. drop features with 70% or more missing values to start\n",
    "3. most rows have 32-34 columns with missing values\n",
    "****"
   ]
  },
  {
   "cell_type": "markdown",
   "metadata": {},
   "source": [
    "****\n",
    "Prepare     \n",
    "**take aways**    \n",
    "\n",
    "**This is deffinition used in previous project**   \n",
    "\n",
    "Determine deffinition of single property used article by James Chen Updated Sep 11, 2020 What Is a Housing Unit? \"The term housing unit refers to a single unit within a larger structure that can be used by an individual or household to eat, sleep, and live. The unit can be in any type of residence such as a house, apartment, mobile home, or may also be a single unit in a group of rooms. Essentially, a housing unit is deemed to be a separate living quarter where the occupants live and eat separately from other residents of the structure or building. They also have direct access from the building's exterior or through a common hallway.\"\n",
    "https://www.investopedia.com/terms/h/housingunits.asp   \n",
    "\n",
    "**In my opinion deffinition should include condo, townhouse, any unit that can be sold to an individual owner. So my deffinition will include townhouse, condo, ect. but not commercial, business, land only, etc. **   \n",
    "\n",
    "This site has the property use codes for LA county https://www.titleadvantage.com/mdocs/LA%20County%20Use%20Codes%20nm.pdf   \n",
    "looking at the common use codes for Duplex, Triplex, and Quadplex these codes indicate the units are multi-family/income properties or retail/store properties so these will be excluded\n",
    "\n",
    "Identify Properties in the Database: Based on the above definition some categories do not fit brief   \n",
    "Propertylandusetypeid | propertylandusedesc    \n",
    "No 31 Commercial/Office/Residential Mixed Used (not a residence)    \n",
    "No 46 Multi-Story Store (not a residence)   \n",
    "No 47 Store/Office (Mixed Use) (not a residence)    \n",
    "No 246 Duplex (2 Units, Any Combination)    \n",
    "No 247 Triplex (3 Units, Any Combination)   \n",
    "No 248 Quadruplex (4 Units, Any Combination)   \n",
    "260 Residential General    \n",
    "261 Single Family Residential   \n",
    "262 Rural Residence   \n",
    "263 Mobile Home   \n",
    "264 Townhouse   \n",
    "No 265 Cluster Home    \n",
    "266 Condominium    \n",
    "No 267 Cooperative (become shareholder not owner)   \n",
    "268 Row House       \n",
    "No 269 Planned Unit Development   \n",
    "No 270 Residential Common Area (propterty feature)    \n",
    "No 271 Timeshare (become shareholder not owner)    \n",
    "273 Bungalow      \n",
    "274 Zero Lot Line   \n",
    "275 Manufactured, Modular, Prefabricated Homes   \n",
    "276 Patio Home    \n",
    "279 Inferred Single Family Residential      \n",
    "No 290 Vacant Land - General (not a residence)   \n",
    "No 291 Residential Vacant Land (not a residence)   \n",
    "\n",
    "So we will keep only those where propertylandusetypeid = ('260', '261', '262', '263', '264', '266', '268', '273', '274', '275', '276', '279')  \n",
    "\n",
    "**acquire function updated to filter only for these**\n",
    "new shape = (71789, 70)\n",
    "****"
   ]
  },
  {
   "cell_type": "markdown",
   "metadata": {},
   "source": [
    "For the columns to remove we will send known duplicate columns in this first pass   \n",
    "- id\n",
    "- id.1\n",
    "- pid\n",
    "- tdate\n",
    "\n",
    "3. Decide how to handle the remaining missing values:\n",
    "\n",
    "Fill with constant value.\n",
    "\n",
    "Impute with mean, median, mode.\n",
    "\n",
    "Drop row/column\n",
    "\n",
    "**wrangle_zillow.py**\n",
    "\n",
    "Functions of the work above needed to acquire and prepare a new sample of data.\n",
    "\n",
    "summary of remaining nulls and how to handle\n",
    "parcelid                            0    \n",
    "propertylandusetypeid               0    \n",
    "heatingorsystemtypeid           25029  DROP column.   \n",
    "bathroomcnt                         0    \n",
    "bedroomcnt                          0    \n",
    "buildingqualitytypeid           26640  DROP column.   \n",
    "calculatedbathnbr                  86  this is a duplicate of bathroom count, DROP COLUMN    \n",
    "calculatedfinishedsquarefeet       13  nulls are same in this and column below, drop null rows    \n",
    "finishedsquarefeet12              222  DROP column    \n",
    "fips                                0      \n",
    "fullbathcnt                        86  fill with 1, each property has to have 1 full bath     \n",
    "latitude                            0     \n",
    "longitude                           0     \n",
    "lotsizesquarefeet                8049  DROP column          \n",
    "propertycountylandusecode           0     \n",
    "propertyzoningdesc              26252  DROP column     \n",
    "rawcensustractandblock              0     \n",
    "regionidcity                     1320  DROP column     \n",
    "regionidcounty                      0     \n",
    "regionidzip                        37  DROP rows     \n",
    "roomcnt                             0     \n",
    "unitcnt                         26264  fill with 1 for single unit     \n",
    "yearbuilt                          47  impute mean     \n",
    "structuretaxvaluedollarcnt         77  DROP column     \n",
    "taxvaluedollarcnt                   1  drop this 1 row     \n",
    "assessmentyear                      0     \n",
    "landtaxvaluedollarcnt               1  drop this 1 row     \n",
    "taxamount                           5  drop these 5 rows     \n",
    "censustractandblock               208  DROP column (have rawcensustractand block)     \n",
    "logerror                            0     \n",
    "heatingorsystemdesc             25029  DROP column     \n",
    "propertylandusedesc                 0     \n",
    "null_count                          0     \n",
    "pct_null                            0     "
   ]
  },
  {
   "cell_type": "markdown",
   "metadata": {},
   "source": [
    "next round of null elimination    \n",
    "parcelid                            0     \n",
    "propertylandusetypeid               0     \n",
    "bathroomcnt                         0     \n",
    "bedroomcnt                          0     \n",
    "calculatedfinishedsquarefeet       13     drop rows\n",
    "fips                                0     \n",
    "fullbathcnt                        86     drop rows - many=bed count=0, these may not be single family\n",
    "latitude                            0     \n",
    "longitude                           0     \n",
    "propertycountylandusecode           0     \n",
    "rawcensustractandblock              0     \n",
    "regionidcounty                      0     \n",
    "regionidzip                        37     drop rows\n",
    "roomcnt                             0     \n",
    "unitcnt                         26264     fill with 1\n",
    "yearbuilt                          47     fill with mean?\n",
    "taxvaluedollarcnt                   1     drop row\n",
    "assessmentyear                      0     \n",
    "landtaxvaluedollarcnt               1     \n",
    "taxamount                           5     drop row\n",
    "logerror                            0     \n",
    "propertylandusedesc                 0     \n",
    "null_count                          0     \n",
    "pct_null                            0  "
   ]
  },
  {
   "cell_type": "markdown",
   "metadata": {},
   "source": [
    "determine and handle upper and lower outliers    \n",
    "While this area of the country does have a broad range of housing values and therefore tax values, we know from previous work with this dataset that the tax rate range is from .001% up to 45% which is unrealistic for tax rates in 2017. Therefore we will determine a point at which to drop outliers above and below the IQR."
   ]
  },
  {
   "cell_type": "markdown",
   "metadata": {},
   "source": [
    "*****\n",
    "MVP - used taxamount to determine cutoff for outliers    \n",
    "for 2nd round might add calculated tax rate column and use that for cut off instead.  \n",
    "**Upperbound Outliers to HANDLE**   \n",
    "\n",
    "**taxamount_outliers**     \n",
    "count      4894.000000     \n",
    "mean      10979.609790     \n",
    "std       20235.975915     \n",
    "min           0.830000     \n",
    "25%        1997.677500     \n",
    "50%        5367.625000     \n",
    "75%       12289.405000     \n",
    "max      573508.600000     \n",
    "Name: taxamount_outliers, dtype: float64     \n",
    "    \n",
    "*******\n",
    "**based on the above info drop upperbound outliers that are above 50th percentile of upperbound outliers**\n",
    "\n",
    "reasoning: there is a significant jump from the 25th to 50th percentile making this a logical place to start removing outliers while still keeping some outliers above the upperbound\n",
    "******"
   ]
  },
  {
   "cell_type": "markdown",
   "metadata": {},
   "source": [
    "********\n",
    "**Lowerbound Outliers to HANDLE**\n",
    "\n",
    "**taxamount_outliers**     \n",
    "count    68981.000000    \n",
    "mean      8203.408061    \n",
    "std       3350.880803    \n",
    "min       3210.485000    \n",
    "25%       5817.075000    \n",
    "50%       7473.745000    \n",
    "75%       9695.125000    \n",
    "max      21685.205000    \n",
    "Name: taxamount_low_outliers, dtype: float64                  \n",
    "   \n",
    "*******\n",
    "**based on the above drop rows that are above the 75th lowerbound percentile**\n",
    "\n",
    "reasoning: there is a significant jump from the 50th to 75th percentile making this a logical place to start removing outliers while still keeping some outliers above the lowerbound\n",
    "*****"
   ]
  },
  {
   "cell_type": "markdown",
   "metadata": {},
   "source": [
    "different way to deal with outliers??\n",
    "Remove Outliers\n",
    "Remove extremes in bedrooms and baths, we will keeps homes with between 1 and 7 baths, between 0 and 7 bedrooms\n",
    "There is an error in zip, so we will remove those whose zips are invalid numbers (> 99999).\n",
    "remove square feet > 7000 for now\n",
    "remove lot size (acres) > 10 for now\n",
    "What is this tax rate of almost 50%?? Remove tax rate > 5% for now."
   ]
  },
  {
   "cell_type": "markdown",
   "metadata": {},
   "source": [
    "create new features??\n",
    "age: 2017 - year built.\n",
    "tax_rate: taxamount/taxvaluedollarcnt fields (total, land & structure). We can then remove taxamount and taxvaluedollarcnt, and will keep taxrate, structuretaxvaluedollarcnt, and landtaxvalue.\n",
    "acres: lotsizesquarefeet/43560\n",
    "structure_dollar_per_sqft: structure tax value/finished square feet\n",
    "land_dollar_per_sqft: land tax value/lot size square feet\n",
    "bed_bath_ratio: bedroomcnt/bathroomcnt\n",
    "cola: city of LA, LA has the largest number of records (across single cities) with a very wide range in values, so we I am creating a boolean feature for city of LA. That will help the model for LA county."
   ]
  },
  {
   "cell_type": "code",
   "execution_count": null,
   "metadata": {},
   "outputs": [],
   "source": []
  }
 ],
 "metadata": {
  "kernelspec": {
   "display_name": "Python 3",
   "language": "python",
   "name": "python3"
  },
  "language_info": {
   "codemirror_mode": {
    "name": "ipython",
    "version": 3
   },
   "file_extension": ".py",
   "mimetype": "text/x-python",
   "name": "python",
   "nbconvert_exporter": "python",
   "pygments_lexer": "ipython3",
   "version": "3.7.6"
  }
 },
 "nbformat": 4,
 "nbformat_minor": 4
}
